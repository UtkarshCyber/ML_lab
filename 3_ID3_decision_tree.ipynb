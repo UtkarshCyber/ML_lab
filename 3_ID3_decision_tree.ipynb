{
  "nbformat": 4,
  "nbformat_minor": 0,
  "metadata": {
    "colab": {
      "provenance": [],
      "mount_file_id": "1B7JXsB0nRBx0cttPUr4I0710MG3WqeWx",
      "authorship_tag": "ABX9TyOajHmjdm4cjiqLVS9r0I6S",
      "include_colab_link": true
    },
    "kernelspec": {
      "name": "python3",
      "display_name": "Python 3"
    },
    "language_info": {
      "name": "python"
    }
  },
  "cells": [
    {
      "cell_type": "markdown",
      "metadata": {
        "id": "view-in-github",
        "colab_type": "text"
      },
      "source": [
        "<a href=\"https://colab.research.google.com/github/UtkarshCyber/ML_lab/blob/main/3_ID3_decision_tree.ipynb\" target=\"_parent\"><img src=\"https://colab.research.google.com/assets/colab-badge.svg\" alt=\"Open In Colab\"/></a>"
      ]
    },
    {
      "cell_type": "code",
      "source": [
        "from google.colab import drive\n",
        "drive.mount('/content/drive')"
      ],
      "metadata": {
        "colab": {
          "base_uri": "https://localhost:8080/"
        },
        "id": "7csj4zXP-Z8l",
        "outputId": "4ab71fac-4137-4be1-e779-ef988ac976b8"
      },
      "execution_count": null,
      "outputs": [
        {
          "output_type": "stream",
          "name": "stdout",
          "text": [
            "Drive already mounted at /content/drive; to attempt to forcibly remount, call drive.mount(\"/content/drive\", force_remount=True).\n"
          ]
        }
      ]
    },
    {
      "cell_type": "code",
      "source": [
        "import pandas as pd\n",
        "import math\n",
        "import numpy as np\n",
        "\n",
        "data = pd.read_csv('/content/drive/MyDrive/ML data/ID3.csv')\n",
        "features = [feat for feat in data]\n",
        "features.remove(\"Answer\")\n",
        "\n",
        "\n",
        "class Node:\n",
        "    def __init__(self):\n",
        "        self.children = []\n",
        "        self.value = \"\"\n",
        "        self.isLeaf = False\n",
        "        self.pred = \"\"\n",
        "\n",
        "\n",
        "def entropy(examples):\n",
        "    pos = 0.0\n",
        "    neg = 0.0\n",
        "    for _, row in examples.iterrows():\n",
        "        if row[\"Answer\"] == \"yes\":\n",
        "            pos += 1\n",
        "        else:\n",
        "            neg += 1\n",
        "    if pos == 0.0 or neg == 0.0:\n",
        "        return 0.0\n",
        "    else:\n",
        "        p = pos / (pos + neg)\n",
        "        n = neg / (pos + neg)\n",
        "        return -(p * math.log(p, 2) + n * math.log(n, 2))\n",
        "\n",
        "\n",
        "def info_gain(examples, attr):\n",
        "    uniq = np.unique(examples[attr])\n",
        "    #print (\"\\n\",uniq)\n",
        "    gain = entropy(examples)\n",
        "    #print (\"\\n\",gain)\n",
        "    for u in uniq:\n",
        "        subdata = examples[examples[attr] == u]\n",
        "        #print (\"\\n\",subdata)\n",
        "        sub_e = entropy(subdata)\n",
        "        gain -= (float(len(subdata)) / float(len(examples))) * sub_e\n",
        "        #print (\"\\n\",gain)\n",
        "    return gain\n",
        "\n",
        "\n",
        "def ID3(examples, attrs):\n",
        "    root = Node()\n",
        "\n",
        "    max_gain = 0\n",
        "    max_feat = \"\"\n",
        "    for feature in attrs:\n",
        "        #print (\"\\n\",examples)\n",
        "        gain = info_gain(examples, feature)\n",
        "        if gain > max_gain:\n",
        "            max_gain = gain\n",
        "            max_feat = feature\n",
        "    root.value = max_feat\n",
        "    #print (\"\\nMax feature attr\",max_feat)\n",
        "    uniq = np.unique(examples[max_feat])\n",
        "    #print (\"\\n\",uniq)\n",
        "    for u in uniq:\n",
        "        #print (\"\\n\",u)\n",
        "        subdata = examples[examples[max_feat] == u]\n",
        "        #print (\"\\n\",subdata)\n",
        "        if entropy(subdata) == 0.0:\n",
        "            newNode = Node()\n",
        "            newNode.isLeaf = True\n",
        "            newNode.value = u\n",
        "            newNode.pred = np.unique(subdata[\"Answer\"])\n",
        "            root.children.append(newNode)\n",
        "        else:\n",
        "            dummyNode = Node()\n",
        "            dummyNode.value = u\n",
        "            new_attrs = attrs.copy()\n",
        "            new_attrs.remove(max_feat)\n",
        "            child = ID3(subdata, new_attrs)\n",
        "            dummyNode.children.append(child)\n",
        "            root.children.append(dummyNode)\n",
        "    return root\n",
        "\n",
        "\n",
        "def printTree(root: Node, depth=0):\n",
        "    for i in range(depth):\n",
        "        print(\"\\t\", end=\"\")\n",
        "    print(root.value, end=\"\")\n",
        "    if root.isLeaf:\n",
        "        print(\" -> \", root.pred)\n",
        "    print()\n",
        "    for child in root.children:\n",
        "        printTree(child, depth + 1)\n",
        "\n",
        "\n",
        "root = ID3(data, features)\n",
        "printTree(root)"
      ],
      "metadata": {
        "id": "Yf5RZk6--lfz",
        "outputId": "27d7d4a0-7ecd-4db4-dc5c-75662d8d5f56",
        "colab": {
          "base_uri": "https://localhost:8080/"
        }
      },
      "execution_count": null,
      "outputs": [
        {
          "output_type": "stream",
          "name": "stdout",
          "text": [
            "Outlook\n",
            "\tovercast ->  ['yes']\n",
            "\n",
            "\train\n",
            "\t\tWind\n",
            "\t\t\tstrong ->  ['no']\n",
            "\n",
            "\t\t\tweak ->  ['yes']\n",
            "\n",
            "\tsunny\n",
            "\t\tHumidity\n",
            "\t\t\thigh ->  ['no']\n",
            "\n",
            "\t\t\tnormal ->  ['yes']\n",
            "\n"
          ]
        }
      ]
    }
  ]
}